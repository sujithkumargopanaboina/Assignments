{
 "cells": [
  {
   "cell_type": "code",
   "execution_count": 96,
   "id": "154c865a",
   "metadata": {},
   "outputs": [],
   "source": [
    "class sujith:\n",
    "    \n",
    "    def __init__(self,x,n):\n",
    "        self.x=x\n",
    "        self.n=n\n",
    "        self.po=0\n",
    "    def v(self):\n",
    "        self.po=self.x**self.n\n",
    "        return self.po"
   ]
  },
  {
   "cell_type": "code",
   "execution_count": 97,
   "id": "cafc0710",
   "metadata": {},
   "outputs": [],
   "source": [
    "a=sujith(10,2)\n",
    "b=sujith(11,2)"
   ]
  },
  {
   "cell_type": "code",
   "execution_count": 98,
   "id": "56c955ce",
   "metadata": {},
   "outputs": [
    {
     "data": {
      "text/plain": [
       "100"
      ]
     },
     "execution_count": 98,
     "metadata": {},
     "output_type": "execute_result"
    }
   ],
   "source": [
    "sujith.v(a)"
   ]
  },
  {
   "cell_type": "code",
   "execution_count": 99,
   "id": "f7e0957a",
   "metadata": {},
   "outputs": [
    {
     "data": {
      "text/plain": [
       "121"
      ]
     },
     "execution_count": 99,
     "metadata": {},
     "output_type": "execute_result"
    }
   ],
   "source": [
    "sujith.v(b)"
   ]
  },
  {
   "cell_type": "code",
   "execution_count": 104,
   "id": "c40e298e",
   "metadata": {},
   "outputs": [],
   "source": [
    "c=sujith(20,9)"
   ]
  },
  {
   "cell_type": "code",
   "execution_count": 105,
   "id": "cfd79c20",
   "metadata": {},
   "outputs": [
    {
     "data": {
      "text/plain": [
       "512000000000"
      ]
     },
     "execution_count": 105,
     "metadata": {},
     "output_type": "execute_result"
    }
   ],
   "source": [
    "sujith.v(c)"
   ]
  },
  {
   "cell_type": "code",
   "execution_count": null,
   "id": "5b94abe6",
   "metadata": {},
   "outputs": [],
   "source": []
  }
 ],
 "metadata": {
  "kernelspec": {
   "display_name": "Python 3",
   "language": "python",
   "name": "python3"
  },
  "language_info": {
   "codemirror_mode": {
    "name": "ipython",
    "version": 3
   },
   "file_extension": ".py",
   "mimetype": "text/x-python",
   "name": "python",
   "nbconvert_exporter": "python",
   "pygments_lexer": "ipython3",
   "version": "3.8.8"
  }
 },
 "nbformat": 4,
 "nbformat_minor": 5
}
