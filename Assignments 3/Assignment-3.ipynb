{
 "cells": [
  {
   "cell_type": "markdown",
   "metadata": {},
   "source": [
    "# Write a Python function to sum all the numbers in a list."
   ]
  },
  {
   "cell_type": "code",
   "execution_count": 2,
   "metadata": {},
   "outputs": [
    {
     "data": {
      "text/plain": [
       "214"
      ]
     },
     "execution_count": 2,
     "metadata": {},
     "output_type": "execute_result"
    }
   ],
   "source": [
    "def s(x): #function\n",
    "    return sum(x)\n",
    "k=[20,80,65,45,4]\n",
    "s(k)#passing value"
   ]
  },
  {
   "cell_type": "code",
   "execution_count": 5,
   "metadata": {},
   "outputs": [
    {
     "name": "stdout",
     "output_type": "stream",
     "text": [
      "enter the no of items:5\n",
      "enter the value:1\n",
      "enter the value:2\n",
      "enter the value:3\n",
      "enter the value:4\n",
      "enter the value:5\n"
     ]
    },
    {
     "data": {
      "text/plain": [
       "15"
      ]
     },
     "execution_count": 5,
     "metadata": {},
     "output_type": "execute_result"
    }
   ],
   "source": [
    "#same program without builtin functionsm and using dynamic input.\n",
    "s=[]\n",
    "def su(x):\n",
    "    add=0\n",
    "    for i in x:\n",
    "        add=add+i\n",
    "    return add\n",
    "x=int(input(\"enter the no of items:\"))\n",
    "for i in range(0,x):\n",
    "    a=int(input(\"enter the value:\"))\n",
    "    s.append(a)\n",
    "su(s)"
   ]
  },
  {
   "cell_type": "markdown",
   "metadata": {},
   "source": [
    "# Write a Python program to reverse a string."
   ]
  },
  {
   "cell_type": "code",
   "execution_count": 8,
   "metadata": {},
   "outputs": [
    {
     "name": "stdout",
     "output_type": "stream",
     "text": [
      "enter a string:sujithKumar\n"
     ]
    },
    {
     "data": {
      "text/plain": [
       "'ramuKhtijus'"
      ]
     },
     "execution_count": 8,
     "metadata": {},
     "output_type": "execute_result"
    }
   ],
   "source": [
    "def re(s):\n",
    "    k=s[::-1]\n",
    "    return k\n",
    "\n",
    "l=input(\"enter a string:\")\n",
    "re(l)"
   ]
  },
  {
   "cell_type": "markdown",
   "metadata": {},
   "source": [
    "# Write a Python function that accepts a string and calculate the number of upper case letters and lower case letters.\n"
   ]
  },
  {
   "cell_type": "code",
   "execution_count": 5,
   "metadata": {},
   "outputs": [
    {
     "name": "stdout",
     "output_type": "stream",
     "text": [
      "entre a string:SDFkndkg\n",
      "upper:3\n",
      "lower:5\n"
     ]
    }
   ],
   "source": [
    "a=input(\"entre a string:\")\n",
    "def cu(x):\n",
    "    u=0\n",
    "    l=0\n",
    "    for i in x:\n",
    "        if (65<=ord(i)<=90 or 97<=ord(i)<=122 ):\n",
    "            if(65<=ord(i)<=90):\n",
    "                u=u+1\n",
    "            else:\n",
    "                l=l+1\n",
    "        else:\n",
    "            print(\"string consist of a non alpha\")\n",
    "            break\n",
    "    return(u,l)\n",
    "k=cu(a)\n",
    "print(\"upper:{}\".format(k[0]))\n",
    "print(\"lower:{}\".format(k[1]))"
   ]
  },
  {
   "cell_type": "code",
   "execution_count": null,
   "metadata": {},
   "outputs": [],
   "source": []
  }
 ],
 "metadata": {
  "kernelspec": {
   "display_name": "Python 3",
   "language": "python",
   "name": "python3"
  },
  "language_info": {
   "codemirror_mode": {
    "name": "ipython",
    "version": 3
   },
   "file_extension": ".py",
   "mimetype": "text/x-python",
   "name": "python",
   "nbconvert_exporter": "python",
   "pygments_lexer": "ipython3",
   "version": "3.7.0"
  }
 },
 "nbformat": 4,
 "nbformat_minor": 2
}
